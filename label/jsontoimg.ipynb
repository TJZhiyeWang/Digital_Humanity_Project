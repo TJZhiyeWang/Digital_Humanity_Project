{
 "cells": [
  {
   "cell_type": "code",
   "execution_count": 3,
   "id": "ca4be339-a310-4be6-bf6e-8f54b1fdf220",
   "metadata": {},
   "outputs": [],
   "source": [
    "import os\n",
    "import json\n",
    "import numpy as np\n",
    "import skimage.draw\n",
    "import cv2\n",
    "import sys"
   ]
  },
  {
   "cell_type": "code",
   "execution_count": 18,
   "id": "0a164b8b-67e8-4630-91da-d75e217ef3ea",
   "metadata": {
    "tags": []
   },
   "outputs": [],
   "source": [
    "IMAGE_FOLDER = \"./images/\"\n",
    "MASK_FOLOER = \"./label/\"\n",
    "PATH_ANNOTATION_JSON = './via_project_1357_1395.json'"
   ]
  },
  {
   "cell_type": "code",
   "execution_count": 19,
   "id": "cea5bd4d-9d83-41b3-9e56-337083595ad4",
   "metadata": {},
   "outputs": [],
   "source": [
    "''' export option one\n",
    "annotations = json.load(open(PATH_ANNOTATION_JSON, 'r'))\n",
    "for imgId, item  in annotations.items():\n",
    "    \n",
    "    filename = item['filename']\n",
    "    regions = item['regions']\n",
    "'''\n",
    "\n",
    "annotations = json.load(open(PATH_ANNOTATION_JSON, 'r'))\n",
    "imgs = annotations[\"_via_img_metadata\"]\n",
    "for imgId in imgs:\n",
    "    filename = imgs[imgId]['filename']\n",
    "    regions = imgs[imgId]['regions']\n",
    "    if len(regions) <= 0:\n",
    "        continue\n",
    "    # image path\n",
    "    image_path = os.path.join(IMAGE_FOLDER, filename)\n",
    "    # read height and width of the image\n",
    "    image = cv2.imread(image_path)  # image = skimage.io.imread(image_path)\n",
    "    height, width = image.shape[:2]\n",
    "\n",
    "    # create blank mask\n",
    "    maskImage = np.zeros((height,width), dtype=np.uint8)\n",
    "\n",
    "    for idx in range(len(regions)):\n",
    "        polygons = regions[idx]['shape_attributes']\n",
    "        countOfPoints = len(polygons['all_points_x'])\n",
    "        points = [None] * countOfPoints\n",
    "        for i in range(countOfPoints):\n",
    "            x = int(polygons['all_points_x'][i])\n",
    "            y = int(polygons['all_points_y'][i])\n",
    "            points[i] = (x, y)\n",
    "\n",
    "        contours = np.array(points)\n",
    "        # iter all coordinates from the map\n",
    "        for i in range(width):\n",
    "            for j in range(height):\n",
    "                if cv2.pointPolygonTest(contours, (i, j), False) > 0:\n",
    "                    maskImage[j,i] = 255\n",
    "\n",
    "    savePath = MASK_FOLOER + filename\n",
    "    # store image\n",
    "    cv2.imwrite(savePath, maskImage)"
   ]
  }
 ],
 "metadata": {
  "kernelspec": {
   "display_name": "Python 3 (ipykernel)",
   "language": "python",
   "name": "python3"
  },
  "language_info": {
   "codemirror_mode": {
    "name": "ipython",
    "version": 3
   },
   "file_extension": ".py",
   "mimetype": "text/x-python",
   "name": "python",
   "nbconvert_exporter": "python",
   "pygments_lexer": "ipython3",
   "version": "3.9.7"
  }
 },
 "nbformat": 4,
 "nbformat_minor": 5
}
