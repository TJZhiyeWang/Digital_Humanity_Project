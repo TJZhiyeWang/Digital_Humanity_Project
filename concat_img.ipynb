{
 "cells": [
  {
   "cell_type": "code",
   "execution_count": 3,
   "id": "0683a1b9-e37b-49e9-a611-a071d1829855",
   "metadata": {},
   "outputs": [],
   "source": [
    "import os\n",
    "from PIL import Image\n",
    "from random import sample, choices\n",
    "import numpy as np"
   ]
  },
  {
   "cell_type": "code",
   "execution_count": 4,
   "id": "4c31c34b-4f20-4226-82b6-db9284f52416",
   "metadata": {},
   "outputs": [],
   "source": [
    "COL = 188 #指定拼接图片的列数\n",
    "ROW = 126 #指定拼接图片的行数\n",
    "UNIT_HEIGHT_SIZE = 256 #图片高度\n",
    "UNIT_WIDTH_SIZE = 256 #图片宽度\n",
    "PATH = \"../level20_1931/\" #需要拼接的图片所在的路径\n",
    "NAME = \"level20\" #拼接出的图片保存的名字\n",
    "DEAFULT_WHITE_PATH = \"./test_img/0/0.jpg\"\n",
    "RANDOM_SELECT = False #设置是否可重复抽取图片\n",
    "SAVE_QUALITY = 5 #保存的图片的质量 可选0-100"
   ]
  },
  {
   "cell_type": "code",
   "execution_count": 5,
   "id": "f3215f0e",
   "metadata": {},
   "outputs": [],
   "source": [
    "swiss_map = [[False for j in range(COL)] for i in range(ROW)]\n",
    "min_row = 1000\n",
    "max_row = 0\n",
    "min_col = 1000\n",
    "max_col = 0"
   ]
  },
  {
   "cell_type": "code",
   "execution_count": 6,
   "id": "f2ff6f7c",
   "metadata": {},
   "outputs": [
    {
     "name": "stdout",
     "output_type": "stream",
     "text": [
      "23\n",
      "18\n",
      "160\n",
      "112\n"
     ]
    }
   ],
   "source": [
    "for col in range(COL):\n",
    "    for row in range(ROW):\n",
    "        img_path = PATH + str(col) + '/' + str(row) + '.png'\n",
    "        with Image.open(img_path) as f:\n",
    "            num_img = np.asarray(f)\n",
    "            if num_img.sum() != 0:\n",
    "                min_col = min(min_col, col)\n",
    "                min_row = min(min_row, row)\n",
    "                max_col = max(max_col, col)\n",
    "                max_row = max(max_row, row)\n",
    "                swiss_map[row][col] = True\n",
    "max_col = 0\n",
    "for col in range(COL):\n",
    "    img_path = PATH + str(col) + '/' + str(max_row) + '.png'\n",
    "    with Image.open(img_path) as f:\n",
    "        num_img = np.asarray(f)\n",
    "        if num_img.sum() != 0:\n",
    "            max_col = max(max_col, col)\n",
    "print(min_col)\n",
    "print(min_row)\n",
    "print(max_col)\n",
    "print(max_row)"
   ]
  },
  {
   "cell_type": "code",
   "execution_count": 2,
   "id": "40831237-a866-4416-8063-bc01698f57d4",
   "metadata": {
    "tags": []
   },
   "outputs": [],
   "source": [
    "#进行图片的复制拼接\n",
    "from PIL import Image\n",
    "def concat_images(name, path, min_col, min_row, max_col, max_row):\n",
    "    target = Image.new('RGB', (UNIT_WIDTH_SIZE * (max_col - min_col + 1), UNIT_HEIGHT_SIZE * (max_row - min_row + 1)), 'white') #创建成品图的画布\n",
    "    #第一个参数RGB表示创建RGB彩色图，第二个参数传入元组指定图片大小，第三个参数可指定颜色，默认为黑色\n",
    "    for row in range(min_row, max_row + 1):\n",
    "        for col in range(min_col, max_col + 1):\n",
    "            img_path = path + str(col) + '/' + str(row) + '.png'\n",
    "            if(os.path.exists(img_path)):\n",
    "                with Image.open(img_path) as f:\n",
    "                    target.paste(f, (0 + UNIT_WIDTH_SIZE*(col-min_col), 0 + UNIT_HEIGHT_SIZE*(row-min_row)))\n",
    "                    # print(\"row: \" + str(row) + \"col: \" + str(col))\n",
    "            #对图片进行逐行拼接\n",
    "            #paste方法第一个参数指定需要拼接的图片，第二个参数为二元元组（指定复制位置的左上角坐标）\n",
    "            #或四元元组（指定复制位置的左上角和右下角坐标）\n",
    "            \n",
    "    target.save(\"./\" + name + '.png', quality=SAVE_QUALITY) #成品图保存"
   ]
  },
  {
   "cell_type": "code",
   "execution_count": 9,
   "id": "b26887f2-3a99-4b96-838b-3b03842a54d2",
   "metadata": {},
   "outputs": [],
   "source": [
    "#concatenate original fragment\n",
    "years = [\"1890\", \"1899\", \"1904\", \"1909\", \"1915\", \"1920\", \"1925\", \"1935\"]\n",
    "#first 67-85 69-99\n",
    "#second 89-107 59-89\n",
    "if not os.path.exists(\"../third/\"):\n",
    "    os.mkdir(\"../third/\")\n",
    "for year in years:\n",
    "    NAME = \"../third/level20_{year}_original\".format(year = year) #拼接出的图片保存的名字\n",
    "    UNIT_HEIGHT_SIZE = 256 #图片高度\n",
    "    UNIT_WIDTH_SIZE = 256 #图片宽度\n",
    "    PATH = \"../level20_{year}/\".format(year = year) #需要拼接的图片所在的路径\n",
    "    SAVE_QUALITY = 5 #保存的图片的质量 可选0-100\n",
    "    min_row = 68\n",
    "    max_row = 89\n",
    "    min_col = 129\n",
    "    max_col = 159\n",
    "#拼接原始爬虫图片\n",
    "    concat_images(NAME, PATH, min_col, min_row, max_col, max_row)"
   ]
  },
  {
   "cell_type": "code",
   "execution_count": 11,
   "id": "5d49bf9f",
   "metadata": {},
   "outputs": [],
   "source": [
    "#crop with overlap\n",
    "import os\n",
    "from PIL import Image\n",
    "from random import sample, choices\n",
    "import numpy as np\n",
    "years = [\"1890\", \"1899\", \"1904\", \"1909\", \"1915\", \"1920\", \"1925\", \"1935\"]\n",
    "folders = [\"first\", \"second\", \"third\"]\n",
    "for folder in folders:\n",
    "    prefix = \"../{folder}/\".format(folder = folder)\n",
    "    for year in years:\n",
    "        img_path = prefix + \"level20_{year}_original.png\".format(year = year)\n",
    "        img_save_path = prefix + \"level20_{year}/images/\".format(year = year)\n",
    "        # if os.path.exists(img_save_path):\n",
    "        os.makedirs(img_save_path)\n",
    "        img = Image.open(img_path)\n",
    "        height, width, _ = np.array(img).shape\n",
    "        gap = 768\n",
    "        length = 1024\n",
    "        for i in range(0, width - length + 1, gap):\n",
    "            for j in range(0, height - length + 1, gap):\n",
    "                img_region = img.crop((i, j, i+length, j+length))\n",
    "                img_region.save(img_save_path + str(j) + \",\" + str(i) + \".png\")"
   ]
  },
  {
   "cell_type": "code",
   "execution_count": 14,
   "id": "c4dec29b",
   "metadata": {},
   "outputs": [],
   "source": [
    "#concatnate with overlap\n",
    "import os\n",
    "from PIL import Image\n",
    "import numpy as np\n",
    "years = [\"1890\", \"1899\", \"1904\", \"1909\", \"1915\", \"1920\", \"1925\", \"1935\"]\n",
    "folders = [\"third\"]\n",
    "for folder in folders:\n",
    "    prefix = \"../{folder}/\".format(folder = folder)\n",
    "    for year in years:\n",
    "        img_path = prefix + \"level20_{year}_original.png\".format(year = year)\n",
    "        img_save_path = prefix + \"level20_{year}_inferred.png\".format(year = year)\n",
    "        bimg_save_path = prefix + \"level20_{year}_binary.png\".format(year = year)\n",
    "        frag_path = prefix + \"level20_{year}_ocr/\".format(year = year)\n",
    "        binary_path = prefix + \"level20_{year}_ocr/binary/\".format(year = year)\n",
    "        img = Image.open(img_path)\n",
    "        height, width, _ = np.array(img).shape\n",
    "        target = Image.new('RGB', (width, height), 'white')\n",
    "        binary = Image.new('RGB', (width, height), 'white')\n",
    "        for name in os.listdir(frag_path):\n",
    "            if name == \"binary\": \n",
    "                continue\n",
    "            with Image.open(frag_path + name) as f:\n",
    "                [i, j] = name.split('.')[0].split(',')\n",
    "                target.paste(f, (int(j),int(i)))\n",
    "            with Image.open(binary_path + name) as f:\n",
    "                [i, j] = name.split('.')[0].split(',')\n",
    "                binary.paste(f, (int(j),int(i)))\n",
    "        target.save(img_save_path)\n",
    "        binary.save(bimg_save_path)"
   ]
  },
  {
   "cell_type": "code",
   "execution_count": 46,
   "id": "0c41ec08",
   "metadata": {},
   "outputs": [],
   "source": [
    "import os\n",
    "from PIL import Image\n",
    "from random import sample, choices\n",
    "import numpy as np\n",
    "new_labels=np.load(\"./mod_labels_small_1931.npy\")\n",
    "\n",
    "\n",
    "lf = Image.fromarray(new_labels)\n",
    "img_path = \"./level20_1931_referenced.png\"\n",
    "f = Image.open(img_path)\n",
    "f = f.convert('RGB')\n",
    "lf = lf.convert('RGB')\n",
    "res = Image.blend(f, lf, 0.6)\n",
    "res.save(\"./mod_check_level20_based1931.png\", quality=5) #成品图保存"
   ]
  },
  {
   "cell_type": "code",
   "execution_count": 2,
   "id": "523fcde4",
   "metadata": {},
   "outputs": [],
   "source": [
    "import os\n",
    "from PIL import Image\n",
    "from random import sample, choices\n",
    "import numpy as np\n",
    "#进行图片的复制拼接\n",
    "def concat_images(name, path, min_col, min_row, max_col, max_row):\n",
    "    target = Image.new('RGB', (UNIT_WIDTH_SIZE * (max_col - min_col + 1), UNIT_HEIGHT_SIZE * (max_row - min_row + 1)), 'white') #创建成品图的画布\n",
    "    #第一个参数RGB表示创建RGB彩色图，第二个参数传入元组指定图片大小，第三个参数可指定颜色，默认为黑色\n",
    "    for row in range(min_row, max_row + 1):\n",
    "        for col in range(min_col, max_col + 1):\n",
    "            img_path = path + str(col) + '/' + str(row) + '.png'\n",
    "            if(os.path.exists(img_path)):\n",
    "                with Image.open(img_path) as f:\n",
    "                    target.paste(f, (0 + UNIT_WIDTH_SIZE*(col-min_col), 0 + UNIT_HEIGHT_SIZE*(row-min_row)))\n",
    "                    # print(\"row: \" + str(row) + \"col: \" + str(col))\n",
    "            #对图片进行逐行拼接\n",
    "            #paste方法第一个参数指定需要拼接的图片，第二个参数为二元元组（指定复制位置的左上角坐标）\n",
    "            #或四元元组（指定复制位置的左上角和右下角坐标）\n",
    "            \n",
    "    target.save(\"./\" + name + '.png', quality=SAVE_QUALITY) #成品图保存"
   ]
  },
  {
   "cell_type": "code",
   "execution_count": 7,
   "id": "14a9f90e",
   "metadata": {},
   "outputs": [],
   "source": [
    "SAVA_ROOT = \"./sample/\" #拼接出的图片保存的名字\n",
    "UNIT_HEIGHT_SIZE = 256 #图片高度\n",
    "UNIT_WIDTH_SIZE = 256 #图片宽度\n",
    "PATH = \"../level20_1931/\" #需要拼接的图片所在的路径\n",
    "SAVE_QUALITY = 5 #保存的图片的质量 可选0-100\n",
    "NUMBER = 1\n",
    "for i in range(25, 156, 2):\n",
    "    for j in range(20, 108, 2):\n",
    "        concat_images(SAVA_ROOT + str(NUMBER), PATH, i, j, i+3, j+3)\n",
    "        NUMBER += 1"
   ]
  },
  {
   "cell_type": "code",
   "execution_count": 38,
   "id": "7fa0e316",
   "metadata": {},
   "outputs": [],
   "source": [
    "import os\n",
    "from PIL import Image\n",
    "from random import sample, choices\n",
    "import numpy as np\n",
    "label_path = \"./label/\"\n",
    "img_path = \"../grey_data/ann/\"\n",
    "ori_path = \"../1931_selected_1024_pics/\"\n",
    "des_path = \"../grey_data/images/\"\n",
    "filename = os.listdir(label_path)\n",
    "for i in filename:\n",
    "    f = Image.open(label_path + str(i))\n",
    "    f = f.convert('1')\n",
    "    f.save(img_path + str(i))\n",
    "    f = Image.open(ori_path + str(i))\n",
    "    f = f.convert('L')\n",
    "    f.save(des_path + str(i))\n",
    "\n"
   ]
  }
 ],
 "metadata": {
  "kernelspec": {
   "display_name": "Python 3.9.8 64-bit",
   "language": "python",
   "name": "python3"
  },
  "language_info": {
   "codemirror_mode": {
    "name": "ipython",
    "version": 3
   },
   "file_extension": ".py",
   "mimetype": "text/x-python",
   "name": "python",
   "nbconvert_exporter": "python",
   "pygments_lexer": "ipython3",
   "version": "3.9.8"
  },
  "vscode": {
   "interpreter": {
    "hash": "b1402b54f01cdc375fee11c23e0f972340a1355b247a9e149426fd3cd7695a4b"
   }
  }
 },
 "nbformat": 4,
 "nbformat_minor": 5
}
