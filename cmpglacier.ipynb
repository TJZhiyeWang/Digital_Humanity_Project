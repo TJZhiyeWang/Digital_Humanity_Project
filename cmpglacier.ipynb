{
 "cells": [
  {
   "cell_type": "code",
   "execution_count": null,
   "id": "7cec292b-e924-4bde-a2ca-bdc06503a90b",
   "metadata": {},
   "outputs": [],
   "source": [
    "import numpy as np\n",
    "from PIL import Image\n",
    "\n",
    "# Load the images\n",
    "img1 = Image.open('cmpimage/level20_1890_binary/level20_1915_binary.png')\n",
    "img2 = Image.open('cmpimage/level20_1890_binary/level20_1935_binary.png')\n",
    "\n",
    "original_img = Image.open('cmpimage/level20_1890_binary/level20_1935_original1.png')\n",
    "\n",
    "# Convert the images to numpy arrays\n",
    "arr1 = np.array(img1)\n",
    "arr2 = np.array(img2)\n",
    "\n",
    "# Find the overlap between the two images\n",
    "overlap = np.all(arr1 == arr2, axis=2)\n",
    "\n",
    "\n",
    "# Find the pixels that are in the second image but not in the first\n",
    "increasing = np.logical_and(np.logical_not(overlap), arr2[:,:,0] != 0)\n",
    "\n",
    "# Create a new array with the desired color for the non-overlapping and increasing pixel areas and the original colors for the other pixels\n",
    "result = np.where(np.logical_or(increasing[:,:,None], overlap[:,:,None]), arr1, [255, 0, 0])\n",
    "\n",
    "\n",
    "result = result.astype(np.uint8)\n",
    "# Convert the resulting array back to an image\n",
    "result_img = Image.fromarray(result)\n",
    "# result.shape\n",
    "result_img\n",
    "res = Image.blend(original_img, result_img, 0.5)\n",
    "res"
   ]
  },
  {
   "cell_type": "code",
   "execution_count": null,
   "id": "88effc4a-8f14-452a-a867-09913d353805",
   "metadata": {},
   "outputs": [],
   "source": []
  }
 ],
 "metadata": {
  "kernelspec": {
   "display_name": "Python 3 (ipykernel)",
   "language": "python",
   "name": "python3"
  },
  "language_info": {
   "codemirror_mode": {
    "name": "ipython",
    "version": 3
   },
   "file_extension": ".py",
   "mimetype": "text/x-python",
   "name": "python",
   "nbconvert_exporter": "python",
   "pygments_lexer": "ipython3",
   "version": "3.9.7"
  }
 },
 "nbformat": 4,
 "nbformat_minor": 5
}
