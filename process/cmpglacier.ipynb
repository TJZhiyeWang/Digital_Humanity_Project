{
 "cells": [
  {
   "cell_type": "code",
   "execution_count": null,
   "id": "016761c1",
   "metadata": {},
   "outputs": [],
   "source": [
    "import numpy as np\n",
    "from PIL import Image\n",
    "\n",
    "# Load the images\n",
    "img1 = Image.open('../first/level20_1915_binary.png')\n",
    "img2 = Image.open('../first/level20_1935_binary.png')\n",
    "# img1 = img1.convert(\"1\")\n",
    "# img2 = img2.convert(\"1\")\n",
    "\n",
    "original_img = Image.open('../first/level20_1935_original.png')\n",
    "\n",
    "# Convert the images to numpy arrays\n",
    "arr1 = np.array(img1)\n",
    "arr2 = np.array(img2)\n",
    "\n",
    "# Find the overlap between the two images\n",
    "overlap = np.all(arr1 == arr2, axis=2)\n",
    "\n",
    "\n",
    "# Find the pixels that are in the second image but not in the first\n",
    "increasing = np.logical_and(np.logical_not(overlap), arr2[:,:,0] != 0)\n",
    "\n",
    "# Create a new array with the desired color for the non-overlapping and increasing pixel areas and the original colors for the other pixels\n",
    "result = np.where(np.logical_or(increasing[:,:,None], overlap[:,:,None]), arr1, [255,0,0])\n",
    "\n",
    "\n",
    "result = result.astype(np.uint8)\n",
    "# Convert the resulting array back to an image\n",
    "result_img = Image.fromarray(result)\n",
    "# result.shape\n",
    "result_img\n",
    "res = Image.blend(original_img, result_img, 0.5)\n",
    "res"
   ]
  }
 ],
 "metadata": {
  "kernelspec": {
   "display_name": "Python 3",
   "language": "python",
   "name": "python3"
  },
  "language_info": {
   "codemirror_mode": {
    "name": "ipython",
    "version": 3
   },
   "file_extension": ".py",
   "mimetype": "text/x-python",
   "name": "python",
   "nbconvert_exporter": "python",
   "pygments_lexer": "ipython3",
   "version": "3.9.8 (tags/v3.9.8:bb3fdcf, Nov  5 2021, 20:48:33) [MSC v.1929 64 bit (AMD64)]"
  },
  "vscode": {
   "interpreter": {
    "hash": "b1402b54f01cdc375fee11c23e0f972340a1355b247a9e149426fd3cd7695a4b"
   }
  }
 },
 "nbformat": 4,
 "nbformat_minor": 5
}
